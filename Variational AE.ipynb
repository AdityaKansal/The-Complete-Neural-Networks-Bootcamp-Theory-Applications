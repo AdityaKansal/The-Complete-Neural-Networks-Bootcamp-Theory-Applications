{
 "cells": [
  {
   "cell_type": "code",
   "execution_count": null,
   "metadata": {},
   "outputs": [],
   "source": [
    "import os\n",
    "import torch\n",
    "import torch.nn as nn\n",
    "import torch.nn.functional as F\n",
    "import torchvision\n",
    "from torchvision import transforms\n",
    "from torchvision.utils import save_image"
   ]
  },
  {
   "cell_type": "code",
   "execution_count": null,
   "metadata": {},
   "outputs": [],
   "source": [
    "# Device configuration\n",
    "device = torch.device('cuda' if torch.cuda.is_available() else 'cpu')\n",
    "\n",
    "# Hyper-parameters\n",
    "input_dim = 784\n",
    "hidden_dim = 400\n",
    "z_dim = 20\n",
    "epochs = 15\n",
    "batch_size = 80\n",
    "learning_rate = 1e-3\n",
    "\n",
    "# MNIST dataset\n",
    "dataset = torchvision.datasets.MNIST(root='data',\n",
    "                                     train=True,\n",
    "                                     transform=transforms.ToTensor(),\n",
    "                                     download=True)\n",
    "\n",
    "# Data loader\n",
    "data_loader = torch.utils.data.DataLoader(dataset=dataset,\n",
    "                                          batch_size=batch_size, \n",
    "                                          shuffle=True)"
   ]
  },
  {
   "cell_type": "code",
   "execution_count": null,
   "metadata": {},
   "outputs": [],
   "source": [
    "class VAE(nn.Module):\n",
    "    def __init__(self, input_dim=784, hidden_dim=400, z_dim=20):\n",
    "        super(VAE, self).__init__()\n",
    "        self.fc1 = nn.Linear(input_dim, hidden_dim)\n",
    "        self.fc_mean = nn.Linear(hidden_dim, z_dim)\n",
    "        self.fc_std = nn.Linear(hidden_dim, z_dim)\n",
    "        self.fc2 = nn.Linear(z_dim, hidden_dim)\n",
    "        self.fc3 = nn.Linear(hidden_dim, input_dim)\n",
    "        \n",
    "    def encoder(self, x):\n",
    "        encode_out = F.relu(self.fc1(x))\n",
    "        mean = self.fc_mean(encode_out)\n",
    "        std = self.fc_std(encode_out)\n",
    "        return mean, std\n",
    "    \n",
    "    def reparameterize(self, mean, log_var):\n",
    "        std = torch.exp(log_var/2)\n",
    "        sample = torch.randn_like(std)\n",
    "        return mean + sample  * std\n",
    "\n",
    "    def decoder(self, z):\n",
    "        out_decode = F.relu(self.fc2(z))\n",
    "        return F.sigmoid(self.fc3(out_decode))\n",
    "    \n",
    "    def forward(self, x):\n",
    "        mean, log_var = self.encoder(x)\n",
    "        z = self.reparameterize(mean, log_var)\n",
    "        reconsted = self.decoder(z)\n",
    "        return reconsted, mean, log_var"
   ]
  },
  {
   "cell_type": "code",
   "execution_count": null,
   "metadata": {},
   "outputs": [],
   "source": [
    "model = VAE().to(device)\n",
    "optimizer = torch.optim.Adam(model.parameters(), lr=learning_rate)"
   ]
  },
  {
   "cell_type": "code",
   "execution_count": null,
   "metadata": {},
   "outputs": [],
   "source": [
    "# Start training\n",
    "for epoch in range(epochs):\n",
    "    for i, (images, _) in enumerate(data_loader):\n",
    "        # Forward pass\n",
    "        images = images.to(device).view(-1, input_dim)\n",
    "        reconstructed, mean, log_var = model(images)\n",
    "        \n",
    "        # Compute reconstruction loss and kl divergence\n",
    "        # For KL divergence, see Appendix B in VAE paper \n",
    "        reconst_loss = F.binary_cross_entropy(reconstructed, images, size_average=False)\n",
    "        kl_div = - 0.5 * torch.sum(1 + log_var - mean.pow(2) - log_var.exp())\n",
    "        \n",
    "        # Backprop and optimize\n",
    "        loss = reconst_loss + kl_div\n",
    "        optimizer.zero_grad()\n",
    "        loss.backward()\n",
    "        optimizer.step()\n",
    "        \n",
    "    print (\"Epoch[{}/{}], Reconstruction Loss: {:.4f}, KL Div Loss: {:.4f}\" .format(epoch+1, epochs, reconst_loss.item(), kl_div.item()))\n",
    "            \n",
    "    with torch.no_grad():\n",
    "        z = torch.randn(batch_size, z_dim).to(device)\n",
    "        out = model.decoder(z).view(-1, 1, 28, 28)\n",
    "        save_image(out, 'sampled-{}.png'.format(epoch+1))"
   ]
  },
  {
   "cell_type": "code",
   "execution_count": null,
   "metadata": {},
   "outputs": [],
   "source": []
  }
 ],
 "metadata": {
  "kernelspec": {
   "display_name": "Python 3",
   "language": "python",
   "name": "python3"
  },
  "language_info": {
   "codemirror_mode": {
    "name": "ipython",
    "version": 3
   },
   "file_extension": ".py",
   "mimetype": "text/x-python",
   "name": "python",
   "nbconvert_exporter": "python",
   "pygments_lexer": "ipython3",
   "version": "3.6.5"
  }
 },
 "nbformat": 4,
 "nbformat_minor": 2
}
